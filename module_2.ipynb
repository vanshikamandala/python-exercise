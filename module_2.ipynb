{
  "nbformat": 4,
  "nbformat_minor": 0,
  "metadata": {
    "colab": {
      "name": "module 2.ipynb",
      "provenance": [],
      "include_colab_link": true
    },
    "kernelspec": {
      "name": "python3",
      "display_name": "Python 3"
    },
    "language_info": {
      "name": "python"
    }
  },
  "cells": [
    {
      "cell_type": "markdown",
      "metadata": {
        "id": "view-in-github",
        "colab_type": "text"
      },
      "source": [
        "<a href=\"https://colab.research.google.com/github/vanshikamandala/python-exercise/blob/main/module_2.ipynb\" target=\"_parent\"><img src=\"https://colab.research.google.com/assets/colab-badge.svg\" alt=\"Open In Colab\"/></a>"
      ]
    },
    {
      "cell_type": "code",
      "execution_count": null,
      "metadata": {
        "colab": {
          "base_uri": "https://localhost:8080/"
        },
        "id": "B6v92k3uG0fA",
        "outputId": "363516bd-740a-4f57-9e39-ef47f9a86929"
      },
      "outputs": [
        {
          "name": "stdout",
          "output_type": "stream",
          "text": [
            "5\n",
            "2\n"
          ]
        },
        {
          "output_type": "execute_result",
          "data": {
            "text/plain": [
              "10.0"
            ]
          },
          "metadata": {},
          "execution_count": 2
        }
      ],
      "source": [
        "def nCr(n, r):\n",
        "    return (fact(n) / (fact(r)\n",
        "                * fact(n - r)))\n",
        "def fact(n):\n",
        "    res = 1    \n",
        "    for i in range(2, n+1):\n",
        "        res = res * i     \n",
        "    return res\n",
        "nCr(n=int(input()),r=int(input()))"
      ]
    },
    {
      "cell_type": "code",
      "source": [
        "def gcd(a,b):\n",
        "    if (a == 0):\n",
        "        return b\n",
        "    if (b == 0):\n",
        "        return\n",
        "    if (a == b):\n",
        "        return a\n",
        "    if (a > b):\n",
        "        return gcd(a-b, b)\n",
        "    return gcd(a, b-a)\n",
        "gcd(20,10)"
      ],
      "metadata": {
        "colab": {
          "base_uri": "https://localhost:8080/"
        },
        "id": "F6tNhcEeKlkJ",
        "outputId": "eacb211b-201e-4605-e19b-bd752d977a48"
      },
      "execution_count": null,
      "outputs": [
        {
          "output_type": "execute_result",
          "data": {
            "text/plain": [
              "10"
            ]
          },
          "metadata": {},
          "execution_count": 16
        }
      ]
    },
    {
      "cell_type": "code",
      "source": [
        "list= ['Red', 'Green', 'White', 'Black', 'Pink', 'Yellow'] \n",
        "list.pop(0)\n",
        "list.pop(4)\n",
        "print(list)"
      ],
      "metadata": {
        "colab": {
          "base_uri": "https://localhost:8080/"
        },
        "id": "ZPRA_yPlMK9Z",
        "outputId": "1434509b-7899-4ac1-9e83-f8bccdd41046"
      },
      "execution_count": null,
      "outputs": [
        {
          "output_type": "stream",
          "name": "stdout",
          "text": [
            "['Green', 'White', 'Black', 'Pink']\n"
          ]
        }
      ]
    },
    {
      "cell_type": "code",
      "source": [
        "l1= ['Red', 'Green', 'White', 'Black', 'Pink', 'Yellow'] \n",
        "l2= ['Red', 'Green', 'White', 'Black']\n",
        "x=set(l1)\n",
        "y=set(l2)\n",
        "z=x.difference(y)\n",
        "print(z)\n",
        "\n",
        "\n"
      ],
      "metadata": {
        "colab": {
          "base_uri": "https://localhost:8080/"
        },
        "id": "-GgYQaKvNjPf",
        "outputId": "28f25f13-4aa3-4b05-ecae-cbb50f25bc78"
      },
      "execution_count": null,
      "outputs": [
        {
          "output_type": "stream",
          "name": "stdout",
          "text": [
            "{'Yellow', 'Pink'}\n"
          ]
        }
      ]
    },
    {
      "cell_type": "code",
      "source": [
        "list=[1,2,3,4,5]\n",
        "list.sort()\n",
        "print(list)\n",
        "print(\"Second Largest element is:\", list[3])\n",
        "print(\"Second Smallest element is:\", list[1])\n",
        "\n",
        "\n"
      ],
      "metadata": {
        "colab": {
          "base_uri": "https://localhost:8080/"
        },
        "id": "dAUUg9jsQnl3",
        "outputId": "a6ae8bae-4589-436f-c3c9-b26a943bc63b"
      },
      "execution_count": null,
      "outputs": [
        {
          "output_type": "stream",
          "name": "stdout",
          "text": [
            "[1, 2, 3, 4, 5]\n",
            "Second Largest element is: 4\n",
            "Second Smallest element is: 2\n"
          ]
        }
      ]
    },
    {
      "cell_type": "code",
      "source": [
        "my_list = [23, 42, 67, 89, 11, 32]\n",
        "print(my_list)\n",
        "my_result = [(val, pow(val, 2)) for val in my_list]\n",
        "print(my_result)"
      ],
      "metadata": {
        "colab": {
          "base_uri": "https://localhost:8080/"
        },
        "id": "5BT2zWO3U7T_",
        "outputId": "145f2785-1278-425a-bcbd-52c1b46456b5"
      },
      "execution_count": null,
      "outputs": [
        {
          "output_type": "stream",
          "name": "stdout",
          "text": [
            "[23, 42, 67, 89, 11, 32]\n",
            "[(23, 529), (42, 1764), (67, 4489), (89, 7921), (11, 121), (32, 1024)]\n"
          ]
        }
      ]
    },
    {
      "cell_type": "code",
      "source": [
        "my_list = [(32, 51), (22,13 ), (94, 65, 77), (70, ), (80, 61, 13, 17)]\n",
        "print(my_list)\n",
        "K = 2\n",
        "my_result = [x for x in my_list if len(x) != K]\n",
        "print(\"The filtered list is : \")\n",
        "print(my_result)"
      ],
      "metadata": {
        "colab": {
          "base_uri": "https://localhost:8080/"
        },
        "id": "M473OPf5WRmo",
        "outputId": "f191cc5d-c475-4cd9-907d-47e83ec68cfd"
      },
      "execution_count": null,
      "outputs": [
        {
          "output_type": "stream",
          "name": "stdout",
          "text": [
            "[(32, 51), (22, 13), (94, 65, 77), (70,), (80, 61, 13, 17)]\n",
            "The filtered list is : \n",
            "[(94, 65, 77), (70,), (80, 61, 13, 17)]\n"
          ]
        }
      ]
    },
    {
      "cell_type": "code",
      "source": [
        "n=int(input(\"Input a number \"))\n",
        "d = dict()\n",
        "for x in range(1,n+1):\n",
        "    d[x]=x*x\n",
        "print(d) "
      ],
      "metadata": {
        "colab": {
          "base_uri": "https://localhost:8080/"
        },
        "id": "hsYy0w-iXL8o",
        "outputId": "2595ba3d-07c8-4eed-e059-8e75d20740e9"
      },
      "execution_count": null,
      "outputs": [
        {
          "output_type": "stream",
          "name": "stdout",
          "text": [
            "Input a number 10\n",
            "{1: 1, 2: 4, 3: 9, 4: 16, 5: 25, 6: 36, 7: 49, 8: 64, 9: 81, 10: 100}\n"
          ]
        }
      ]
    }
  ]
}
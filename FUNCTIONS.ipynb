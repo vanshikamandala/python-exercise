{
  "nbformat": 4,
  "nbformat_minor": 0,
  "metadata": {
    "colab": {
      "name": "FUNCTIONS.ipynb",
      "provenance": [],
      "include_colab_link": true
    },
    "kernelspec": {
      "name": "python3",
      "display_name": "Python 3"
    },
    "language_info": {
      "name": "python"
    }
  },
  "cells": [
    {
      "cell_type": "markdown",
      "metadata": {
        "id": "view-in-github",
        "colab_type": "text"
      },
      "source": [
        "<a href=\"https://colab.research.google.com/github/vanshikamandala/python-exercise/blob/main/FUNCTIONS.ipynb\" target=\"_parent\"><img src=\"https://colab.research.google.com/assets/colab-badge.svg\" alt=\"Open In Colab\"/></a>"
      ]
    },
    {
      "cell_type": "code",
      "execution_count": 1,
      "metadata": {
        "colab": {
          "base_uri": "https://localhost:8080/"
        },
        "id": "XFuEhraSVBrc",
        "outputId": "0e01f33f-4680-4f6c-d8f0-eb6d9ed37d74"
      },
      "outputs": [
        {
          "output_type": "stream",
          "name": "stdout",
          "text": [
            "i\n",
            "am\n",
            "human\n"
          ]
        }
      ],
      "source": [
        "def vanshika():\n",
        " print(\"i\")\n",
        " print(\"am\")\n",
        " print(\"human\")\n",
        "vanshika()\n",
        "  "
      ]
    },
    {
      "cell_type": "code",
      "source": [
        "def vanshika(me):\n",
        "  print(me+\"\")\n",
        "vanshika(\"elephant\")\n",
        "vanshika(\"cat\")\n",
        "vanshika(\"dog\")"
      ],
      "metadata": {
        "colab": {
          "base_uri": "https://localhost:8080/"
        },
        "id": "xzaQmPQYZFMV",
        "outputId": "47a37060-7e07-4719-a232-193389ad8267"
      },
      "execution_count": 2,
      "outputs": [
        {
          "output_type": "stream",
          "name": "stdout",
          "text": [
            "elephantneetu\n",
            "catneetu\n",
            "dogneetu\n"
          ]
        }
      ]
    },
    {
      "cell_type": "code",
      "source": [
        "def vote(age,gender,name):\n",
        " print(\"age=\",age,\"gender=\",gender,\"name=\",name)\n",
        "\n",
        " if age >=18:\n",
        "  print(\"eligible\")\n",
        " else:\n",
        "   print(\"not eligible\")\n",
        "vote(20,\"male\",\"ayush\")\n",
        "  "
      ],
      "metadata": {
        "colab": {
          "base_uri": "https://localhost:8080/"
        },
        "id": "LivjaTlraSVA",
        "outputId": "f951fa2d-a964-4ea9-e031-3b0ecd05ea41"
      },
      "execution_count": null,
      "outputs": [
        {
          "output_type": "stream",
          "name": "stdout",
          "text": [
            "age= 20 gender= male name= ayush\n",
            "eligible\n"
          ]
        }
      ]
    },
    {
      "cell_type": "code",
      "source": [
        "def vote(age,gender,name):\n",
        " print(\"age=\",age,\"gender=\",gender,\"name=\",name)\n",
        "\n",
        " if age >=18:\n",
        "  print(\"eligible\")\n",
        " else:\n",
        "   print(\"not eligible\")\n",
        "vote(age=int(input()),gender=input(),name=input())"
      ],
      "metadata": {
        "colab": {
          "base_uri": "https://localhost:8080/"
        },
        "id": "6pBGXRy3fr2e",
        "outputId": "04d2cfcf-5d8a-47ac-b414-a852f6aacf2e"
      },
      "execution_count": null,
      "outputs": [
        {
          "output_type": "stream",
          "name": "stdout",
          "text": [
            "22 \n",
            "abc\n",
            "bcd\n",
            "age= 22 gender= abc name= bcd\n",
            "eligible\n"
          ]
        }
      ]
    },
    {
      "cell_type": "code",
      "source": [
        "a=25.5\n",
        "b=abs(a)\n",
        "print(b)\n",
        "c=13\n",
        "d=pow(c,3)\n",
        "print(d)\n"
      ],
      "metadata": {
        "colab": {
          "base_uri": "https://localhost:8080/"
        },
        "id": "OOtxfdiUdMmI",
        "outputId": "d77d5574-4e04-493c-a361-1806ec7efd61"
      },
      "execution_count": null,
      "outputs": [
        {
          "output_type": "stream",
          "name": "stdout",
          "text": [
            "25.5\n",
            "2197\n"
          ]
        }
      ]
    }
  ]
}
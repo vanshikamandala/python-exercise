{
  "nbformat": 4,
  "nbformat_minor": 0,
  "metadata": {
    "colab": {
      "name": "python_practise.ipynb",
      "provenance": [],
      "collapsed_sections": [],
      "include_colab_link": true
    },
    "kernelspec": {
      "name": "python3",
      "display_name": "Python 3"
    },
    "language_info": {
      "name": "python"
    }
  },
  "cells": [
    {
      "cell_type": "markdown",
      "metadata": {
        "id": "view-in-github",
        "colab_type": "text"
      },
      "source": [
        "<a href=\"https://colab.research.google.com/github/vanshikamandala/python-exercise/blob/main/python_practise.ipynb\" target=\"_parent\"><img src=\"https://colab.research.google.com/assets/colab-badge.svg\" alt=\"Open In Colab\"/></a>"
      ]
    },
    {
      "cell_type": "code",
      "execution_count": null,
      "metadata": {
        "colab": {
          "base_uri": "https://localhost:8080/"
        },
        "id": "CQKg8x42WfLV",
        "outputId": "7a3e5e30-383b-47b4-f4f7-80e7234b98f0"
      },
      "outputs": [
        {
          "output_type": "stream",
          "name": "stdout",
          "text": [
            "enter a number110\n",
            "10\n",
            "enter a number220\n",
            "20.0\n",
            "30.0\n",
            "entera characters\n",
            "(s)\n"
          ]
        }
      ],
      "source": [
        "from pyparsing.core import Char\n",
        "a=int(input(\"enter a number1\"));\n",
        "print(a);\n",
        "b=float(input(\"enter a number2\"));\n",
        "print(b);\n",
        "c=a+b;\n",
        "print(c);\n",
        "d=Char(input(\"entera character\"));\n",
        "print(d);"
      ]
    },
    {
      "cell_type": "code",
      "source": [
        "##converting int to string,float,boolean,complex.\n",
        "a=10;\n",
        "print(type(a));\n",
        "#before conversion\n",
        "b=str(a);\n",
        "print(b);\n",
        "print(type(b));\n",
        "#after conversion\n",
        "c=float(a);\n",
        "print(c);\n",
        "print(type(c));\n",
        "d=bool(a);\n",
        "print(d);\n",
        "print(type(d));\n",
        "e=complex(a);\n",
        "print(e);\n",
        "print(type(e));"
      ],
      "metadata": {
        "colab": {
          "base_uri": "https://localhost:8080/"
        },
        "id": "gE1l3oPsdUbT",
        "outputId": "19f41036-4a3d-4b1e-9710-cb784ec4a2e6"
      },
      "execution_count": null,
      "outputs": [
        {
          "output_type": "stream",
          "name": "stdout",
          "text": [
            "<class 'int'>\n",
            "10\n",
            "<class 'str'>\n",
            "10.0\n",
            "<class 'float'>\n",
            "True\n",
            "<class 'bool'>\n",
            "(10+0j)\n",
            "<class 'complex'>\n"
          ]
        }
      ]
    },
    {
      "cell_type": "code",
      "source": [
        "##converting complex into boolean\n",
        "a=10+5j\n",
        "print(a)\n",
        "print(type(a))\n",
        "b=bool(a)\n",
        "print(b)\n",
        "print(type(b))"
      ],
      "metadata": {
        "colab": {
          "base_uri": "https://localhost:8080/"
        },
        "id": "QyMquK1YpePH",
        "outputId": "e77ace13-9324-4f09-f0c4-2ecdf01b5b10"
      },
      "execution_count": null,
      "outputs": [
        {
          "output_type": "stream",
          "name": "stdout",
          "text": [
            "(10+5j)\n",
            "<class 'complex'>\n",
            "True\n",
            "<class 'bool'>\n"
          ]
        }
      ]
    },
    {
      "cell_type": "code",
      "source": [
        "##converting string to int,float,boolean,complex\n",
        "a='10'\n",
        "print(type(a));\n",
        "#before conversion\n",
        "b=int(a);\n",
        "print(b);\n",
        "print(type(b));\n",
        "c='ten'\n",
        "print(type(c))\n",
        "print(c)\n",
        "#cannot convertalphabet to ntegers,only digits\n",
        "#instead of alphabets give 8-9\n",
        "e=float(a)\n",
        "print(type(e))\n",
        "print(e)\n",
        "f=bool(a)\n",
        "print(f)\n",
        "print(type(f))\n",
        "\n",
        "\n",
        "\n"
      ],
      "metadata": {
        "colab": {
          "base_uri": "https://localhost:8080/"
        },
        "id": "9L4LY76-kMHs",
        "outputId": "344871bc-0030-476c-b452-2cb50db9649f"
      },
      "execution_count": null,
      "outputs": [
        {
          "output_type": "stream",
          "name": "stdout",
          "text": [
            "<class 'str'>\n",
            "10\n",
            "<class 'int'>\n",
            "<class 'str'>\n",
            "ten\n",
            "<class 'float'>\n",
            "10.0\n",
            "True\n",
            "<class 'bool'>\n"
          ]
        }
      ]
    },
    {
      "cell_type": "code",
      "source": [
        "##converting float to int,string,boolean,complex.\n",
        "a=10.5;\n",
        "print(type(a));\n",
        "#before conversion\n",
        "b=str(a);\n",
        "print(b);\n",
        "print(type(b));\n",
        "#after conversion\n",
        "c=int(a);\n",
        "print(c);\n",
        "print(type(c));\n",
        "d=bool(a);\n",
        "print(d);\n",
        "print(type(d));\n",
        "e=complex(a);\n",
        "print(e);\n",
        "print(type(e));"
      ],
      "metadata": {
        "colab": {
          "base_uri": "https://localhost:8080/"
        },
        "id": "jnK3bjGvnSTs",
        "outputId": "3044d122-a2b1-4452-8ea3-a9256af93f62"
      },
      "execution_count": null,
      "outputs": [
        {
          "output_type": "stream",
          "name": "stdout",
          "text": [
            "<class 'float'>\n",
            "10.5\n",
            "<class 'str'>\n",
            "10\n",
            "<class 'int'>\n",
            "True\n",
            "<class 'bool'>\n",
            "(10.5+0j)\n",
            "<class 'complex'>\n"
          ]
        }
      ]
    },
    {
      "cell_type": "code",
      "source": [
        "a=10;\n",
        "b=20;\n",
        "c=a+b;\n",
        "d=a-b;\n",
        "e=a*b;\n",
        "f=a/b;\n",
        "print(c);\n",
        "print(d);\n",
        "print(e);\n",
        "print(f);\n",
        "print(type(c));\n",
        "print(type(d));\n",
        "print(type(e));\n",
        "print(type(f));\n",
        "\n"
      ],
      "metadata": {
        "colab": {
          "base_uri": "https://localhost:8080/"
        },
        "id": "npoeZkGOXE6d",
        "outputId": "c1157edf-2369-4d1f-e569-8d6cc67fcd32"
      },
      "execution_count": null,
      "outputs": [
        {
          "output_type": "stream",
          "name": "stdout",
          "text": [
            "30\n",
            "-10\n",
            "200\n",
            "0.5\n",
            "<class 'int'>\n",
            "<class 'int'>\n",
            "<class 'int'>\n",
            "<class 'float'>\n"
          ]
        }
      ]
    }
  ]
}
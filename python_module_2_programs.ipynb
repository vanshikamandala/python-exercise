{
  "nbformat": 4,
  "nbformat_minor": 0,
  "metadata": {
    "colab": {
      "name": "python module 2 programs ",
      "provenance": [],
      "authorship_tag": "ABX9TyMIluyNHPOw1AkpbrSd4NjG",
      "include_colab_link": true
    },
    "kernelspec": {
      "name": "python3",
      "display_name": "Python 3"
    },
    "language_info": {
      "name": "python"
    }
  },
  "cells": [
    {
      "cell_type": "markdown",
      "metadata": {
        "id": "view-in-github",
        "colab_type": "text"
      },
      "source": [
        "<a href=\"https://colab.research.google.com/github/vanshikamandala/python-exercise/blob/main/python_module_2_programs.ipynb\" target=\"_parent\"><img src=\"https://colab.research.google.com/assets/colab-badge.svg\" alt=\"Open In Colab\"/></a>"
      ]
    },
    {
      "cell_type": "code",
      "source": [
        "#program to find minimum among three numbers\n",
        "a=10\n",
        "b=20\n",
        "c=30\n",
        "if a<b and a<c:\n",
        "  print(\"a is minimum\")\n",
        "elif b<c and b<a:\n",
        "  print(\"b is minimum\")\n",
        "else:\n",
        "  print(\"c is minimum\")"
      ],
      "metadata": {
        "colab": {
          "base_uri": "https://localhost:8080/"
        },
        "id": "ux_npI5lFTOx",
        "outputId": "244652ba-4baf-4a9c-ab36-f33e4e135311"
      },
      "execution_count": null,
      "outputs": [
        {
          "output_type": "stream",
          "name": "stdout",
          "text": [
            "a is minimum\n"
          ]
        }
      ]
    },
    {
      "cell_type": "code",
      "source": [
        "#program using arthimetic operators on two numbers\n",
        "a=1\n",
        "b=2\n",
        "addition=a+b\n",
        "print(\"addition of two numbers is\",addition)\n",
        "sub=a-b\n",
        "print(\"sub of two numbers is\",sub)\n",
        "multiplication=a*b\n",
        "print(\"mutiplication of two numbers is\",multiplication)\n",
        "division=a/b\n",
        "print(\"division of two numbers is\",division)\n",
        "\n"
      ],
      "metadata": {
        "colab": {
          "base_uri": "https://localhost:8080/"
        },
        "id": "kQxWz8EdGRLS",
        "outputId": "66209b45-1202-4fe5-fafa-5add73413757"
      },
      "execution_count": null,
      "outputs": [
        {
          "output_type": "stream",
          "name": "stdout",
          "text": [
            "addition of two numbers is 3\n",
            "sub of two numbers is -1\n",
            "mutiplication of two numbers is 2\n",
            "division of two numbers is 0.5\n"
          ]
        }
      ]
    },
    {
      "cell_type": "code",
      "source": [
        "\n",
        "#program to find roots of quadratic equation\n",
        "import math\n",
        "a=1\n",
        "b=2\n",
        "c=3\n",
        "discriminant=b*b-4*a*c\n",
        "if discriminant>0:\n",
        "  root1=-b+math.sqrt(discriminant)/2*a\n",
        "  root2=-b-math.sqrt(discriminant)/2*a\n",
        "  print(\"two distinct real roots are\",root1,root2)\n",
        "elif discriminant==0:\n",
        "  root1=root2=-b/(2*a)\n",
        "  print(\"two equal and real roots exist\",root1,root2)\n",
        "else:\n",
        "  print(\"two distinct complex roots exist\",root1,root2)\n",
        "\n",
        "\n",
        "  \n",
        "\n"
      ],
      "metadata": {
        "id": "nO91urWcI1NX",
        "colab": {
          "base_uri": "https://localhost:8080/",
          "height": 235
        },
        "outputId": "39803818-df5a-4997-9a40-db70c1d4bac3"
      },
      "execution_count": 13,
      "outputs": [
        {
          "output_type": "error",
          "ename": "NameError",
          "evalue": "ignored",
          "traceback": [
            "\u001b[0;31m---------------------------------------------------------------------------\u001b[0m",
            "\u001b[0;31mNameError\u001b[0m                                 Traceback (most recent call last)",
            "\u001b[0;32m<ipython-input-13-66198a7ff7ec>\u001b[0m in \u001b[0;36m<module>\u001b[0;34m()\u001b[0m\n\u001b[1;32m     14\u001b[0m   \u001b[0mprint\u001b[0m\u001b[0;34m(\u001b[0m\u001b[0;34m\"two equal and real roots exist\"\u001b[0m\u001b[0;34m,\u001b[0m\u001b[0mroot1\u001b[0m\u001b[0;34m,\u001b[0m\u001b[0mroot2\u001b[0m\u001b[0;34m)\u001b[0m\u001b[0;34m\u001b[0m\u001b[0;34m\u001b[0m\u001b[0m\n\u001b[1;32m     15\u001b[0m \u001b[0;32melse\u001b[0m\u001b[0;34m:\u001b[0m\u001b[0;34m\u001b[0m\u001b[0;34m\u001b[0m\u001b[0m\n\u001b[0;32m---> 16\u001b[0;31m   \u001b[0mprint\u001b[0m\u001b[0;34m(\u001b[0m\u001b[0;34m\"two distinct complex roots exist\"\u001b[0m\u001b[0;34m,\u001b[0m\u001b[0mroot1\u001b[0m\u001b[0;34m,\u001b[0m\u001b[0mroot2\u001b[0m\u001b[0;34m)\u001b[0m\u001b[0;34m\u001b[0m\u001b[0;34m\u001b[0m\u001b[0m\n\u001b[0m\u001b[1;32m     17\u001b[0m \u001b[0;34m\u001b[0m\u001b[0m\n\u001b[1;32m     18\u001b[0m \u001b[0;34m\u001b[0m\u001b[0m\n",
            "\u001b[0;31mNameError\u001b[0m: name 'root1' is not defined"
          ]
        }
      ]
    },
    {
      "cell_type": "code",
      "source": [
        "#factorial of anumber\n",
        "num=int(input('enter a number'))\n",
        "f=1\n",
        "for i in range(1,num+1):\n",
        "  f=f*i\n",
        "print(\"factorial of\",num,\"=\",f)\n",
        "\n"
      ],
      "metadata": {
        "colab": {
          "base_uri": "https://localhost:8080/"
        },
        "id": "3117aQ7MPj8B",
        "outputId": "262ec222-0993-4411-c275-37ada5652d76"
      },
      "execution_count": 29,
      "outputs": [
        {
          "output_type": "stream",
          "name": "stdout",
          "text": [
            "enter a number2\n",
            "factorial of 2 = 2\n"
          ]
        }
      ]
    },
    {
      "cell_type": "code",
      "source": [
        "#prime no or not\n",
        "number=4\n",
        "if 4>1:\n",
        "  for i in range (2,number):\n",
        "    if(4%i==0):\n",
        "      print(\"not a prime number\")\n",
        "else:\n",
        "  print(\"prime number\")"
      ],
      "metadata": {
        "colab": {
          "base_uri": "https://localhost:8080/"
        },
        "id": "yByjdh6_YJTi",
        "outputId": "8e908317-6bd3-4828-f7ed-29661de4ce6a"
      },
      "execution_count": 31,
      "outputs": [
        {
          "output_type": "stream",
          "name": "stdout",
          "text": [
            "not a prime number\n"
          ]
        }
      ]
    },
    {
      "cell_type": "code",
      "source": [
        "#swap two values\n",
        "a=1\n",
        "b=2\n",
        "a,b=b,a\n",
        "print(\"a=\",a)\n",
        "print(\"y=\",b)"
      ],
      "metadata": {
        "colab": {
          "base_uri": "https://localhost:8080/"
        },
        "id": "_uE4m7ZjbWxq",
        "outputId": "4cc7d0b1-9e7e-49a8-d331-245a2167e0f7"
      },
      "execution_count": 32,
      "outputs": [
        {
          "output_type": "stream",
          "name": "stdout",
          "text": [
            "a= 2\n",
            "y= 1\n"
          ]
        }
      ]
    },
    {
      "cell_type": "code",
      "source": [
        "#perfect no or not\n",
        "n=4\n",
        "sum=0\n",
        "for i in range(1,n):\n",
        "  if(n%i==0):\n",
        "   sum=sum+i\n",
        "   if(sum==n):\n",
        "     print(\"it is a perfect no\")\n",
        "else:\n",
        "  print(\"it is not a perfect no\")\n",
        "    \n",
        "\n",
        "  "
      ],
      "metadata": {
        "colab": {
          "base_uri": "https://localhost:8080/"
        },
        "id": "libXeix7cBkC",
        "outputId": "6811a6a1-17d2-4654-a9e5-62f8b418999e"
      },
      "execution_count": 36,
      "outputs": [
        {
          "output_type": "stream",
          "name": "stdout",
          "text": [
            "it is not a perfect no\n"
          ]
        }
      ]
    },
    {
      "cell_type": "code",
      "source": [
        ""
      ],
      "metadata": {
        "id": "_kusyWThfEaW"
      },
      "execution_count": null,
      "outputs": []
    }
  ]
}
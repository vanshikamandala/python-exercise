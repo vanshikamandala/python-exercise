{
  "nbformat": 4,
  "nbformat_minor": 0,
  "metadata": {
    "colab": {
      "name": "sets",
      "provenance": [],
      "authorship_tag": "ABX9TyNH3U+myWGlt8X09PWOd3Lz",
      "include_colab_link": true
    },
    "kernelspec": {
      "name": "python3",
      "display_name": "Python 3"
    },
    "language_info": {
      "name": "python"
    }
  },
  "cells": [
    {
      "cell_type": "markdown",
      "metadata": {
        "id": "view-in-github",
        "colab_type": "text"
      },
      "source": [
        "<a href=\"https://colab.research.google.com/github/vanshikamandala/python-exercise/blob/main/sets.ipynb\" target=\"_parent\"><img src=\"https://colab.research.google.com/assets/colab-badge.svg\" alt=\"Open In Colab\"/></a>"
      ]
    },
    {
      "cell_type": "code",
      "execution_count": 1,
      "metadata": {
        "colab": {
          "base_uri": "https://localhost:8080/"
        },
        "id": "IjjEsZws26wv",
        "outputId": "c672b719-5fcb-4bbe-f224-89699e970c66"
      },
      "outputs": [
        {
          "output_type": "stream",
          "name": "stdout",
          "text": [
            "{'orange', 'cherry', 'melon', 'dog', 'cat'}\n"
          ]
        }
      ],
      "source": [
        "a={\"cherry\",\"dog\",\"cat\",\"melon\"}\n",
        "a.add(\"orange\")\n",
        "print(a)"
      ]
    }
  ]
}
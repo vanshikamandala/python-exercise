{
  "cells": [
    {
      "cell_type": "markdown",
      "metadata": {
        "id": "view-in-github",
        "colab_type": "text"
      },
      "source": [
        "<a href=\"https://colab.research.google.com/github/vanshikamandala/python-exercise/blob/main/module_2_python.ipynb\" target=\"_parent\"><img src=\"https://colab.research.google.com/assets/colab-badge.svg\" alt=\"Open In Colab\"/></a>"
      ]
    },
    {
      "cell_type": "code",
      "execution_count": null,
      "metadata": {
        "colab": {
          "base_uri": "https://localhost:8080/"
        },
        "id": "S0XMZg7LShoy",
        "outputId": "ab760cc1-cd16-4b6b-90cf-1cb54076759a"
      },
      "outputs": [
        {
          "name": "stdout",
          "output_type": "stream",
          "text": [
            "2\n"
          ]
        }
      ],
      "source": [
        "#Recursive function to compute GCD of 2 numbers\n",
        "def gcd(m, n):\n",
        "   if m == n:\n",
        "      return m\n",
        "   elif m < n:\n",
        "      return gcd(n, m)\n",
        "   else:\n",
        "      return gcd(n, m - n)\n",
        "\n",
        "m= 12\n",
        "n = 34\n",
        "print(gcd(m, n))"
      ]
    },
    {
      "cell_type": "code",
      "execution_count": null,
      "metadata": {
        "colab": {
          "base_uri": "https://localhost:8080/"
        },
        "id": "WdyKpyq-SakB",
        "outputId": "c81914e5-68ec-4e0a-ee27-6cbc482e46ba"
      },
      "outputs": [
        {
          "name": "stdout",
          "output_type": "stream",
          "text": [
            "['Green', 'White', 'Black']\n"
          ]
        }
      ],
      "source": [
        "#Program to print a specified list after removing the 0th, 4th and 5th elements.\n",
        "#Sample List : ['Red', 'Green', 'White', 'Black', 'Pink', 'Yellow']\n",
        "#Expected Output : ['Green', 'White', 'Black']\n",
        "vanshika= ['Red', 'Green', 'White', 'Black', 'Pink', 'Yellow']\n",
        "vanshika.pop(0)\n",
        "vanshika.pop(4)   #value gets updated\n",
        "vanshika.pop(3)\n",
        "print(vanshika)\n"
      ]
    },
    {
      "cell_type": "code",
      "execution_count": null,
      "metadata": {
        "colab": {
          "background_save": true,
          "base_uri": "https://localhost:8080/",
          "height": 131
        },
        "id": "qQPUvQtWTXnK",
        "outputId": "3edca933-3b86-41be-dc7a-d14321ec8192"
      },
      "outputs": [
        {
          "name": "stdout",
          "output_type": "stream",
          "text": [
            "2\n"
          ]
        }
      ],
      "source": [
        "#Program to count the number of strings where the string length is 2 or more and the first and last character are same from a given list of strings\n",
        "def match_words(words):\n",
        "  ctr = 0\n",
        "for word in words:\n",
        "    if len(word) > 1 and word[0] == word[-1]:\n",
        "      ctr += 1\n",
        "  return ctr\n",
        "print(match_words(['abc', 'xyz', 'aba', '1221']))"
      ]
    },
    {
      "cell_type": "code",
      "execution_count": null,
      "metadata": {
        "colab": {
          "base_uri": "https://localhost:8080/"
        },
        "id": "NtBEh6OQUZ7Z",
        "outputId": "a81191a0-aa19-4fb1-b4b8-7b4af379f3cf"
      },
      "outputs": [
        {
          "name": "stdout",
          "output_type": "stream",
          "text": [
            "32\n"
          ]
        }
      ],
      "source": [
        "#Recursive function to find product of two numbers\n",
        "def product(a,b):\n",
        "    if(a<b):\n",
        "        return product(b,a)\n",
        "    elif(b!=0):\n",
        "        return(a+product(a,b-1))\n",
        "    else:\n",
        "        return 0\n",
        "a=4\n",
        "b=8\n",
        "print(product(a,b))"
      ]
    },
    {
      "cell_type": "code",
      "execution_count": null,
      "metadata": {
        "colab": {
          "base_uri": "https://localhost:8080/"
        },
        "id": "6bnlK3-fVJAO",
        "outputId": "99cc31ee-b133-4d8d-d508-dd01e5703ca7"
      },
      "outputs": [
        {
          "name": "stdout",
          "output_type": "stream",
          "text": [
            "2\n"
          ]
        }
      ],
      "source": [
        "#Recursive function to generate Fibonacci series\n",
        "def fibonacci(n):\n",
        "\tif n<=1:\n",
        "\t\treturn n\n",
        "\telse:\n",
        "\t\treturn(fibonacci(n-1) + fibonacci(n-2))\n",
        "n=3\n",
        "print(fibonacci(n))"
      ]
    },
    {
      "cell_type": "code",
      "execution_count": null,
      "metadata": {
        "colab": {
          "base_uri": "https://localhost:8080/"
        },
        "id": "a9dON9jnWz51",
        "outputId": "cf3747d9-7496-4a48-f88d-c322697b4265"
      },
      "outputs": [
        {
          "name": "stdout",
          "output_type": "stream",
          "text": [
            "[9, 3, 5, 8, 2, 4, 6]\n"
          ]
        }
      ],
      "source": [
        "#Program to get the difference between the two lists\n",
        "A = [1, 3, 5, 7, 9]\n",
        "V=[1, 2, 4, 6, 7, 8]\n",
        "A_V = list(set(A) - set(V))\n",
        "V_A = list(set(V) - set(A))\n",
        "total_diff = A_V + V_A\n",
        "print(total_diff)\n"
      ]
    },
    {
      "cell_type": "code",
      "execution_count": null,
      "metadata": {
        "colab": {
          "base_uri": "https://localhost:8080/"
        },
        "id": "VZy3CdLUYMe9",
        "outputId": "16e7e2e9-6b9d-46f4-af96-3588d66bc581"
      },
      "outputs": [
        {
          "name": "stdout",
          "output_type": "stream",
          "text": [
            "[(2, 4), (3, 9)]\n"
          ]
        }
      ],
      "source": [
        "# Given a list of numbers of list, write a Python program to create a list of tuples\n",
        "A_B=2\n",
        "B_A=3\n",
        "V=[(x,x**2) for x in range(A_B,B_A+1)]\n",
        "print(V)"
      ]
    },
    {
      "cell_type": "code",
      "execution_count": null,
      "metadata": {
        "colab": {
          "base_uri": "https://localhost:8080/"
        },
        "id": "jAvM0kHDaNH1",
        "outputId": "0d863949-d747-4f2b-d855-42be2393ac80"
      },
      "outputs": [
        {
          "name": "stdout",
          "output_type": "stream",
          "text": [
            "Input a number 5\n",
            "{1: 1, 2: 4, 3: 9, 4: 16, 5: 25}\n"
          ]
        }
      ],
      "source": [
        "#Program to generate and print a dictionary that contains a number (between 1 and n in the form of (x,x*x)\n",
        "n=int(input(\"Input a number \"))\n",
        "d = dict()\n",
        "\n",
        "for x in range(1,n+1):\n",
        "    d[x]=x*x\n",
        "\n",
        "print(d) \n"
      ]
    },
    {
      "cell_type": "code",
      "execution_count": null,
      "metadata": {
        "colab": {
          "base_uri": "https://localhost:8080/"
        },
        "id": "9rQ_5EnBaYgq",
        "outputId": "cfad1520-34d2-4a56-839d-492d8122e9d9"
      },
      "outputs": [
        {
          "name": "stdout",
          "output_type": "stream",
          "text": [
            "{'a': 3, 'b': 6, 'c': 1, 'd': 5}\n",
            "{'b': 6, 'c': 1, 'd': 5}\n"
          ]
        }
      ],
      "source": [
        "#Program to remove a key from a dictionary\n",
        "vanshika = {'a':3,'b':6,'c':1,'d':5}\n",
        "print(vanshika) \n",
        "if 'a' in vanshika:\n",
        "    del vanshika['a']\n",
        "print(vanshika)\n"
      ]
    },
    {
      "cell_type": "code",
      "execution_count": null,
      "metadata": {
        "colab": {
          "base_uri": "https://localhost:8080/"
        },
        "id": "lbaAMRhsbYLq",
        "outputId": "a2eec950-452b-4237-b992-2b6df391f28f"
      },
      "outputs": [
        {
          "name": "stdout",
          "output_type": "stream",
          "text": [
            "5056\n",
            "5\n"
          ]
        }
      ],
      "source": [
        "#Program to get the maximum and minimum value in a dictionary\n",
        "my_dict = {'x':5056, 'y':584, 'z': 5}\n",
        "key_max = max(my_dict.keys(), key=(lambda k: my_dict[k]))\n",
        "key_min = min(my_dict.keys(), key=(lambda k: my_dict[k]))\n",
        "print(my_dict[key_max])\n",
        "print(my_dict[key_min])\n"
      ]
    },
    {
      "cell_type": "code",
      "execution_count": null,
      "metadata": {
        "colab": {
          "base_uri": "https://localhost:8080/"
        },
        "id": "T5M0L6gZpol7",
        "outputId": "a7c4b10c-f6b7-44e8-fb72-8d3dd4d97abf"
      },
      "outputs": [
        {
          "name": "stdout",
          "output_type": "stream",
          "text": [
            "Enter any string: vanshika\n",
            "Lowercase characters: 8\n",
            "Uppercase characters: 0\n"
          ]
        }
      ],
      "source": [
        "#Python function that accepts a string and calculates the number of uppercase and lower case letters\n",
        "string = input('Enter any string: ')\n",
        "upper, lower = 0, 0\n",
        "for i in string:\n",
        "    if(i.islower()):\n",
        "        lower = lower + 1\n",
        "    elif(i.isupper()):\n",
        "        upper = upper + 1\n",
        "print('Lowercase characters:',lower)\n",
        "print('Uppercase characters:',upper)\n",
        "\n",
        "  \n"
      ]
    },
    {
      "cell_type": "code",
      "execution_count": null,
      "metadata": {
        "colab": {
          "base_uri": "https://localhost:8080/"
        },
        "id": "q-qwiB5dxj4O",
        "outputId": "d61d8c99-c6a6-41f6-ca3b-0db4d4ef2d0f"
      },
      "outputs": [
        {
          "name": "stdout",
          "output_type": "stream",
          "text": [
            "raccit\n",
            "rabbit\n"
          ]
        }
      ],
      "source": [
        "#Program for replacing one substring by another For example - Rabbit - Replace bb\n",
        "animal='rabbit'\n",
        "print(animal.replace('bb','cc'))\n",
        "print(animal)"
      ]
    },
    {
      "cell_type": "code",
      "execution_count": null,
      "metadata": {
        "colab": {
          "base_uri": "https://localhost:8080/"
        },
        "id": "8pPl814ppSlT",
        "outputId": "0e18bd7c-0f04-4101-e811-c2196877f1bd"
      },
      "outputs": [
        {
          "name": "stdout",
          "output_type": "stream",
          "text": [
            "[(1, 1), (2, 4), (5, 25), (6, 36)]\n"
          ]
        }
      ],
      "source": [
        "#square of 2 numbers\n",
        "a=[1,2,5,6]\n",
        "vanshika=[(val,pow(val,2)) for val in a]\n",
        "print(vanshika)"
      ]
    },
    {
      "cell_type": "code",
      "execution_count": null,
      "metadata": {
        "colab": {
          "base_uri": "https://localhost:8080/"
        },
        "id": "lLqFpujrz4NC",
        "outputId": "35f2d47b-c6b5-4e31-cdda-aff90c140cb0"
      },
      "outputs": [
        {
          "name": "stdout",
          "output_type": "stream",
          "text": [
            "Largest element is: 56\n",
            "Smallest element is: 3\n",
            "Second Largest element is: 34\n",
            "Second Smallest element is: 5\n"
          ]
        }
      ],
      "source": [
        "#having first element as the number and second element as the square of the number\n",
        "def find_len(list1):\n",
        "\tlength = len(list1)\n",
        "\tlist1.sort()\n",
        "\tprint(\"Largest element is:\", list1[length-1])\n",
        "\tprint(\"Smallest element is:\", list1[0])\n",
        "\tprint(\"Second Largest element is:\", list1[length-2])\n",
        "\tprint(\"Second Smallest element is:\", list1[1])\n",
        "list1=[34,12,6,5,24,31,3,56,11]\n",
        "Largest = find_len(list1)\n"
      ]
    }
  ],
  "metadata": {
    "colab": {
      "name": "module 2 python",
      "provenance": [],
      "authorship_tag": "ABX9TyO3WXMolUovgt0wC1QAYaQE",
      "include_colab_link": true
    },
    "kernelspec": {
      "display_name": "Python 3",
      "name": "python3"
    },
    "language_info": {
      "name": "python"
    }
  },
  "nbformat": 4,
  "nbformat_minor": 0
}
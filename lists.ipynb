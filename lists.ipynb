{
  "nbformat": 4,
  "nbformat_minor": 0,
  "metadata": {
    "colab": {
      "name": "lists",
      "provenance": [],
      "authorship_tag": "ABX9TyP7t6O8rmz3PQIG3AUslmxI",
      "include_colab_link": true
    },
    "kernelspec": {
      "name": "python3",
      "display_name": "Python 3"
    },
    "language_info": {
      "name": "python"
    }
  },
  "cells": [
    {
      "cell_type": "markdown",
      "metadata": {
        "id": "view-in-github",
        "colab_type": "text"
      },
      "source": [
        "<a href=\"https://colab.research.google.com/github/vanshikamandala/python-exercise/blob/main/lists.ipynb\" target=\"_parent\"><img src=\"https://colab.research.google.com/assets/colab-badge.svg\" alt=\"Open In Colab\"/></a>"
      ]
    },
    {
      "cell_type": "code",
      "execution_count": null,
      "metadata": {
        "colab": {
          "base_uri": "https://localhost:8080/"
        },
        "id": "jBUrEbdU4kJK",
        "outputId": "013c74e8-3aa7-4fc8-e556-6eea9c27e617"
      },
      "outputs": [
        {
          "output_type": "stream",
          "name": "stdout",
          "text": [
            "['apple', 'pinki', 'jrrere', 'orrange']\n"
          ]
        }
      ],
      "source": [
        "a=[\"apple\",\"pinki\",\"jrrere\"]\n",
        "a.append(\"orrange\")\n",
        "print(a)"
      ]
    },
    {
      "cell_type": "code",
      "source": [
        "vanshika=[\"ef\",\"nuyr\",\"y4ny56\"]\n",
        "shivani=[\"u4nyx\",\"ny78y\",\"9u89ym85\"]\n",
        "vanshika.extend(shivani)\n",
        "print(vanshika)"
      ],
      "metadata": {
        "colab": {
          "base_uri": "https://localhost:8080/"
        },
        "id": "1ekoF1TU5teT",
        "outputId": "17c088d6-eb1d-40fd-95ea-efe93d51553c"
      },
      "execution_count": null,
      "outputs": [
        {
          "output_type": "stream",
          "name": "stdout",
          "text": [
            "['ef', 'nuyr', 'y4ny56', 'u4nyx', 'ny78y', '9u89ym85']\n"
          ]
        }
      ]
    },
    {
      "cell_type": "code",
      "source": [
        "a=[\"jtnt\",\"8y8968\",\"u68u450u\"]\n",
        "a.remove(\"jtnt\")\n",
        "print(a)"
      ],
      "metadata": {
        "colab": {
          "base_uri": "https://localhost:8080/"
        },
        "id": "Xbc809q86bgs",
        "outputId": "9d29857c-764c-4ede-bb11-0b7f96bf034c"
      },
      "execution_count": null,
      "outputs": [
        {
          "output_type": "stream",
          "name": "stdout",
          "text": [
            "['8y8968', 'u68u450u']\n"
          ]
        }
      ]
    },
    {
      "cell_type": "code",
      "source": [
        "b=[\"tn4c4yn\",\"7yn4n49\",\"uujy7yy7\"]\n",
        "b.pop(1)\n",
        "print(b)"
      ],
      "metadata": {
        "colab": {
          "base_uri": "https://localhost:8080/"
        },
        "id": "ujmgZhR38SwB",
        "outputId": "b102b569-afd7-41a1-fb49-22007319bcc9"
      },
      "execution_count": null,
      "outputs": [
        {
          "output_type": "stream",
          "name": "stdout",
          "text": [
            "['tn4c4yn', 'uujy7yy7']\n"
          ]
        }
      ]
    },
    {
      "cell_type": "code",
      "source": [
        "vanshika=[\"tyytyt\",\"7587nn\",\"ntu4\"]\n",
        "del vanshika[1]\n",
        "print(vanshika)"
      ],
      "metadata": {
        "colab": {
          "base_uri": "https://localhost:8080/"
        },
        "id": "anTY4_hp8zH-",
        "outputId": "b598fed5-2452-4a58-d600-1bbb5b8ca762"
      },
      "execution_count": null,
      "outputs": [
        {
          "output_type": "stream",
          "name": "stdout",
          "text": [
            "['tyytyt', 'ntu4']\n"
          ]
        }
      ]
    }
  ]
}
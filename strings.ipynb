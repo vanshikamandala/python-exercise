{
  "nbformat": 4,
  "nbformat_minor": 0,
  "metadata": {
    "colab": {
      "name": "strings.ipynb",
      "provenance": [],
      "include_colab_link": true
    },
    "kernelspec": {
      "name": "python3",
      "display_name": "Python 3"
    },
    "language_info": {
      "name": "python"
    }
  },
  "cells": [
    {
      "cell_type": "markdown",
      "metadata": {
        "id": "view-in-github",
        "colab_type": "text"
      },
      "source": [
        "<a href=\"https://colab.research.google.com/github/vanshikamandala/python-exercise/blob/main/strings.ipynb\" target=\"_parent\"><img src=\"https://colab.research.google.com/assets/colab-badge.svg\" alt=\"Open In Colab\"/></a>"
      ]
    },
    {
      "cell_type": "markdown",
      "source": [
        "##**length of the string**\n"
      ],
      "metadata": {
        "id": "fphabyCIADGs"
      }
    },
    {
      "cell_type": "code",
      "execution_count": null,
      "metadata": {
        "colab": {
          "base_uri": "https://localhost:8080/"
        },
        "id": "--mE_Rmn95br",
        "outputId": "2ec73654-182f-41c7-8560-3f79f713a408"
      },
      "outputs": [
        {
          "output_type": "stream",
          "name": "stdout",
          "text": [
            "Lorem ipsum dolor sit amet,\n",
            "consectetur adipiscing elit,\n",
            "sed do eiusmod tempor incididunt\n",
            "ut labore et dolore magna aliqua.\n",
            "123\n"
          ]
        }
      ],
      "source": [
        "a = '''Lorem ipsum dolor sit amet,\n",
        "consectetur adipiscing elit,\n",
        "sed do eiusmod tempor incididunt\n",
        "ut labore et dolore magna aliqua.'''\n",
        "print(a)\n",
        "print(len(a))"
      ]
    },
    {
      "cell_type": "markdown",
      "source": [
        "##**checking** **string**"
      ],
      "metadata": {
        "id": "WsGqPEyX_73t"
      }
    },
    {
      "cell_type": "code",
      "source": [
        "a = '''Lorem ipsum dolor sit amet,\n",
        "consectetur adipiscing elit,\n",
        "sed do eiusmod tempor incididunt\n",
        "ut labore et dolore magna aliqua.'''\n",
        "print(a)\n",
        "print(\"Lorem\" in a)\n",
        "print(\"hi\" in a)"
      ],
      "metadata": {
        "colab": {
          "base_uri": "https://localhost:8080/"
        },
        "id": "LZ1Uzpxl__0s",
        "outputId": "51394f5d-c601-4e88-d709-d0bc63fbec1f"
      },
      "execution_count": null,
      "outputs": [
        {
          "output_type": "stream",
          "name": "stdout",
          "text": [
            "Lorem ipsum dolor sit amet,\n",
            "consectetur adipiscing elit,\n",
            "sed do eiusmod tempor incididunt\n",
            "ut labore et dolore magna aliqua.\n",
            "True\n",
            "False\n"
          ]
        }
      ]
    },
    {
      "cell_type": "markdown",
      "source": [
        "##**if not**\n"
      ],
      "metadata": {
        "id": "SuABk4lUBNZX"
      }
    },
    {
      "cell_type": "code",
      "source": [
        "a = '''Lorem ipsum dolor sit amet,\n",
        "consectetur adipiscing elit,\n",
        "sed do eiusmod tempor incididunt\n",
        "ut labore et dolore magna aliqua.'''\n",
        "print(a)\n",
        "print(\"hi\" not in a)\n",
        "print(\"class\" in a,\"ipsum\" in a)"
      ],
      "metadata": {
        "colab": {
          "base_uri": "https://localhost:8080/"
        },
        "id": "dbKignLCBP4T",
        "outputId": "b7abfc3f-4833-490f-ecea-2d9c4f41732b"
      },
      "execution_count": null,
      "outputs": [
        {
          "output_type": "stream",
          "name": "stdout",
          "text": [
            "Lorem ipsum dolor sit amet,\n",
            "consectetur adipiscing elit,\n",
            "sed do eiusmod tempor incididunt\n",
            "ut labore et dolore magna aliqua.\n",
            "True\n",
            "False True\n"
          ]
        }
      ]
    },
    {
      "cell_type": "markdown",
      "source": [
        "##**slicing**"
      ],
      "metadata": {
        "id": "GeW_Uy6hCzA1"
      }
    },
    {
      "cell_type": "code",
      "source": [
        "a=\"i went to rrr movie\"\n",
        "print(a[2:5],a[5:11])"
      ],
      "metadata": {
        "colab": {
          "base_uri": "https://localhost:8080/"
        },
        "id": "Xgke8MVBC8VM",
        "outputId": "7aeac42d-3a36-4eef-a9bd-29078fffdfc8"
      },
      "execution_count": null,
      "outputs": [
        {
          "output_type": "stream",
          "name": "stdout",
          "text": [
            "wen t to r\n"
          ]
        }
      ]
    },
    {
      "cell_type": "markdown",
      "source": [
        "##**modifying string**"
      ],
      "metadata": {
        "id": "3GJ_FqLsGLH8"
      }
    },
    {
      "cell_type": "code",
      "source": [
        "a = '''Lorem ipsum dolor sit amet,\n",
        "consectetur adipiscing elit,\n",
        "sed do eiusmod tempor incididunt\n",
        "ut labore et dolore magna aliqua.'''\n",
        "print(a.upper())\n",
        "print(a.lower())\n"
      ],
      "metadata": {
        "colab": {
          "base_uri": "https://localhost:8080/"
        },
        "id": "PiAkqGaNFHr_",
        "outputId": "b665f9eb-9c46-49e1-b6de-af4d911fa6a4"
      },
      "execution_count": null,
      "outputs": [
        {
          "output_type": "stream",
          "name": "stdout",
          "text": [
            "LOREM IPSUM DOLOR SIT AMET,\n",
            "CONSECTETUR ADIPISCING ELIT,\n",
            "SED DO EIUSMOD TEMPOR INCIDIDUNT\n",
            "UT LABORE ET DOLORE MAGNA ALIQUA.\n",
            "lorem ipsum dolor sit amet,\n",
            "consectetur adipiscing elit,\n",
            "sed do eiusmod tempor incididunt\n",
            "ut labore et dolore magna aliqua.\n"
          ]
        }
      ]
    },
    {
      "cell_type": "markdown",
      "source": [
        "##**removing white spaces**"
      ],
      "metadata": {
        "id": "4vc-V-OvHXhF"
      }
    },
    {
      "cell_type": "code",
      "source": [
        "a = '''                 Lorem ipsum dolor sit amet,\n",
        "consectetur adipiscing elit,\n",
        "sed do eiusmod tempor incididunt\n",
        "ut labore et dolore magna aliqua.                     '''\n",
        "print(a.strip())"
      ],
      "metadata": {
        "colab": {
          "base_uri": "https://localhost:8080/"
        },
        "id": "b5_ewuZvHud8",
        "outputId": "47b41dd8-58af-4e0a-e86b-7190a300adf3"
      },
      "execution_count": null,
      "outputs": [
        {
          "output_type": "stream",
          "name": "stdout",
          "text": [
            "Lorem ipsum dolor sit amet,\n",
            "consectetur adipiscing elit,\n",
            "sed do eiusmod tempor incididunt\n",
            "ut labore et dolore magna aliqua.\n"
          ]
        }
      ]
    },
    {
      "cell_type": "markdown",
      "source": [
        "##**replacing in strings**"
      ],
      "metadata": {
        "id": "kV3W9nTyJFsE"
      }
    },
    {
      "cell_type": "code",
      "source": [
        "a=\"i went to rrr movie\"\n",
        "print(a.replace(\"r\",\"sl\"))"
      ],
      "metadata": {
        "colab": {
          "base_uri": "https://localhost:8080/"
        },
        "id": "INl92QVaIGwN",
        "outputId": "f0575108-04e5-40fe-d9f3-2eba6f703faf"
      },
      "execution_count": null,
      "outputs": [
        {
          "output_type": "stream",
          "name": "stdout",
          "text": [
            "i went to slslsl movie\n"
          ]
        }
      ]
    },
    {
      "cell_type": "markdown",
      "source": [
        "##**string concatenation or adding two strings**"
      ],
      "metadata": {
        "id": "jiJxPkXrKELu"
      }
    },
    {
      "cell_type": "code",
      "source": [
        "a=\"i went to rrr movie\"\n",
        "b=\" with my friends\"\n",
        "print(a+b)"
      ],
      "metadata": {
        "colab": {
          "base_uri": "https://localhost:8080/"
        },
        "id": "HAfXZIToKjQc",
        "outputId": "4fa66c8f-3c39-42b2-d867-fb26d3c9c7dc"
      },
      "execution_count": null,
      "outputs": [
        {
          "output_type": "stream",
          "name": "stdout",
          "text": [
            "i went to rrr movie with my friends\n"
          ]
        }
      ]
    },
    {
      "cell_type": "markdown",
      "source": [
        "##**format strings**"
      ],
      "metadata": {
        "id": "ODrRNXOyLO7E"
      }
    },
    {
      "cell_type": "code",
      "source": [
        "age = 36\n",
        "txt = \"My name is John, and I am {}\"\n",
        "print(txt.format(age))\n",
        "quantity = 3\n",
        "itemno = 567\n",
        "price = 49.95\n",
        "myorder = \"I want {} pieces of item {} for {} dollars.\"\n",
        "print(myorder.format(quantity, itemno, price)) \n",
        "quantity = 3\n",
        "itemno = 567\n",
        "price = 49.95\n",
        "myorder = \"I want to pay {2} dollars for {0} pieces of item {1}.\"\n",
        "print(myorder.format(quantity, itemno, price))\n",
        "\n"
      ],
      "metadata": {
        "colab": {
          "base_uri": "https://localhost:8080/"
        },
        "id": "lOjgYvD9NhTN",
        "outputId": "4affa95c-1b5b-433e-efa9-09461007e5cf"
      },
      "execution_count": null,
      "outputs": [
        {
          "output_type": "stream",
          "name": "stdout",
          "text": [
            "My name is John, and I am 36\n",
            "I want 3 pieces of item 567 for 49.95 dollars.\n",
            "I want to pay 49.95 dollars for 3 pieces of item 567.\n"
          ]
        }
      ]
    },
    {
      "cell_type": "markdown",
      "source": [
        "##**escape characters**"
      ],
      "metadata": {
        "id": "0a5HWdztQmTu"
      }
    },
    {
      "cell_type": "code",
      "source": [
        "txt = 'It\\'s alright.'\n",
        "print(txt) \n",
        "txt = 'It\\\\ alright.'\n",
        "print(txt) "
      ],
      "metadata": {
        "colab": {
          "base_uri": "https://localhost:8080/"
        },
        "id": "DNGL-0T6QyIl",
        "outputId": "dd7c14d7-f18e-457b-e897-912ea3a73a27"
      },
      "execution_count": null,
      "outputs": [
        {
          "output_type": "stream",
          "name": "stdout",
          "text": [
            "It's alright.\n",
            "It\\ alright.\n"
          ]
        }
      ]
    }
  ]
}
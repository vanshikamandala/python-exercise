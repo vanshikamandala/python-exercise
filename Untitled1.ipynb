{
  "nbformat": 4,
  "nbformat_minor": 0,
  "metadata": {
    "colab": {
      "name": "Untitled1.ipynb",
      "provenance": [],
      "authorship_tag": "ABX9TyOeDkiM9eW8k4BDowe92DIn",
      "include_colab_link": true
    },
    "kernelspec": {
      "name": "python3",
      "display_name": "Python 3"
    },
    "language_info": {
      "name": "python"
    }
  },
  "cells": [
    {
      "cell_type": "markdown",
      "metadata": {
        "id": "view-in-github",
        "colab_type": "text"
      },
      "source": [
        "<a href=\"https://colab.research.google.com/github/vanshikamandala/python-exercise/blob/main/Untitled1.ipynb\" target=\"_parent\"><img src=\"https://colab.research.google.com/assets/colab-badge.svg\" alt=\"Open In Colab\"/></a>"
      ]
    },
    {
      "cell_type": "code",
      "execution_count": 1,
      "metadata": {
        "colab": {
          "base_uri": "https://localhost:8080/"
        },
        "id": "ZQenOsccRgiw",
        "outputId": "59562549-143d-4a1a-89fb-92a930d9ee01"
      },
      "outputs": [
        {
          "output_type": "stream",
          "name": "stdout",
          "text": [
            "not eligible for voting\n"
          ]
        }
      ],
      "source": [
        "a=10\n",
        "if a>=18:\n",
        "  print(\"eligible for voting\")\n",
        "else:\n",
        "  print(\"not eligible for voting\")"
      ]
    },
    {
      "cell_type": "code",
      "source": [
        "#find the maximum of three numbers\n",
        "a=10\n",
        "b=20\n",
        "c=30\n",
        "if a>b and a>c:\n",
        "  print(\"a is maximum\")\n",
        "elif b>a and b>c:\n",
        "  print(\"b is maximum\")\n",
        "else:\n",
        "    print(\"c is maximum\")\n",
        "\n"
      ],
      "metadata": {
        "colab": {
          "base_uri": "https://localhost:8080/"
        },
        "id": "2z45XsQFSrAm",
        "outputId": "83617add-d9a3-44d2-f0d3-33ab9782a6c7"
      },
      "execution_count": 9,
      "outputs": [
        {
          "output_type": "stream",
          "name": "stdout",
          "text": [
            "c is maximum\n"
          ]
        }
      ]
    },
    {
      "cell_type": "code",
      "source": [
        "#find the triangle equilateral,isosceles and scalene triangle\n",
        "a=10\n",
        "b=20\n",
        "c=30\n",
        "if a==b and c==a:\n",
        "  print(\"equilateral\")\n",
        "elif a==b or b==c or c==a:\n",
        "  print(\"isosceles\")\n",
        "else:\n",
        "  print(\"scalene\")"
      ],
      "metadata": {
        "colab": {
          "base_uri": "https://localhost:8080/"
        },
        "id": "fRUlo9zKWFMl",
        "outputId": "01a73f08-51b9-4557-9a1e-ed79f829a421"
      },
      "execution_count": 14,
      "outputs": [
        {
          "output_type": "stream",
          "name": "stdout",
          "text": [
            "scalene\n"
          ]
        }
      ]
    },
    {
      "cell_type": "code",
      "source": [
        "#leap year or not\n",
        "year=2000\n",
        "if year%4==0 and year%100!=0:\n",
        "  print(\"leap year\")\n",
        "elif year%400==0:\n",
        "  print(\"leap year\")\n",
        "else:\n",
        "  print(\"not a leap year\")"
      ],
      "metadata": {
        "colab": {
          "base_uri": "https://localhost:8080/"
        },
        "id": "gfBaFj3GcbMp",
        "outputId": "47e48407-fd26-45e8-c66d-b58db5359886"
      },
      "execution_count": 23,
      "outputs": [
        {
          "output_type": "stream",
          "name": "stdout",
          "text": [
            "leap year\n"
          ]
        }
      ]
    },
    {
      "cell_type": "code",
      "source": [
        "#positive,negative or zero\n",
        "a=7\n",
        "if(a>0):\n",
        "  print(\"positive number\")\n",
        "elif (a<0):\n",
        "  print(\"negative number\")\n",
        "else:\n",
        "  print(\"zero\")"
      ],
      "metadata": {
        "colab": {
          "base_uri": "https://localhost:8080/"
        },
        "id": "EmqFoqq3eL9w",
        "outputId": "a12f8643-478a-4546-de02-688fed88fd73"
      },
      "execution_count": 24,
      "outputs": [
        {
          "output_type": "stream",
          "name": "stdout",
          "text": [
            "positive number\n"
          ]
        }
      ]
    },
    {
      "cell_type": "code",
      "source": [
        "#divisible by 5 and 11 or not\n",
        "a=14\n",
        "if(a%5==0) and (a%11==0):\n",
        "  print(\"a is divisible by 5 and 11\")\n",
        "else:\n",
        "  print(\"a is not divisible by 5 and 11\")"
      ],
      "metadata": {
        "colab": {
          "base_uri": "https://localhost:8080/"
        },
        "id": "k2zSEx3XfSkR",
        "outputId": "69c189d7-e73f-4113-c5f3-1dc41ed764a5"
      },
      "execution_count": 25,
      "outputs": [
        {
          "output_type": "stream",
          "name": "stdout",
          "text": [
            "a is not divisible by 5 and 11\n"
          ]
        }
      ]
    }
  ]
}